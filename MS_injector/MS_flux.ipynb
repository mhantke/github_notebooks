{
 "cells": [
  {
   "cell_type": "markdown",
   "metadata": {},
   "source": [
    "# High-flux electrospray sample injector for X-ray laser imaging\n",
    "\n",
    "Particle density considerations for the application of a high-flux electrospray ionization source as a sample injector for single particle imaging with XFELs."
   ]
  },
  {
   "cell_type": "code",
   "execution_count": 21,
   "metadata": {},
   "outputs": [
    {
     "name": "stdout",
     "output_type": "stream",
     "text": [
      "Populating the interactive namespace from numpy and matplotlib\n"
     ]
    }
   ],
   "source": [
    "%pylab inline\n",
    "import scipy.constants as constants\n",
    "import seaborn as sns\n",
    "sns.set_style('white')"
   ]
  },
  {
   "cell_type": "markdown",
   "metadata": {},
   "source": [
    "### Physical units and constants"
   ]
  },
  {
   "cell_type": "code",
   "execution_count": 4,
   "metadata": {},
   "outputs": [],
   "source": [
    "# Prefixes\n",
    "kilo = 1E3\n",
    "milli = 1e-3\n",
    "micro = 1e-6\n",
    "nano = 1e-9\n",
    "pico = 1e-12\n",
    "\n",
    "# Time\n",
    "second = 1.\n",
    "minute = 60.*second\n",
    "hour = 60.*minute\n",
    "\n",
    "# Current\n",
    "ampere = 1.\n",
    "mA = milli*ampere\n",
    "uA = micro*ampere\n",
    "nA = nano*ampere\n",
    "pA = pico*ampere\n",
    "\n",
    "# Mass\n",
    "kg = 1.\n",
    "u = constants.u * kg\n",
    "Da = u\n",
    "kDa = kilo*Da\n",
    "\n",
    "# Charge\n",
    "coulomb = 1.\n",
    "electron = constants.e * coulomb\n",
    "pAh = pA*hour\n",
    "\n",
    "# Energy\n",
    "joule = 1.\n",
    "eV = electron\n",
    "\n",
    "# Length\n",
    "meter = 1.\n",
    "mm = milli*meter\n",
    "um = micro*meter\n",
    "\n",
    "# Volume\n",
    "liter = (0.1*meter)**3\n",
    "mL = milli*liter\n",
    "uL = micro*liter\n",
    "nL = nano*liter\n",
    "\n",
    "# Number\n",
    "mol = constants.N_A\n",
    "mmol = milli*mol\n",
    "umol = micro*mol\n",
    "nmol = nano*mol"
   ]
  },
  {
   "cell_type": "markdown",
   "metadata": {},
   "source": [
    "## 1) Electrospray\n",
    "\n",
    "### 1.1) Electrospray flow rate"
   ]
  },
  {
   "cell_type": "code",
   "execution_count": 5,
   "metadata": {},
   "outputs": [
    {
     "name": "stdout",
     "output_type": "stream",
     "text": [
      "EXP. PARAMETERS:\n",
      "Molecule concentration:  \t c = 10.0 uM\n",
      "Liquid volume flow rate: \t f = 0.01 mL/hour\n",
      "\n",
      "RESULT:\n",
      "Molecular flow rate:    \t F_ES = 1.004e+10 1/sec\n"
     ]
    }
   ],
   "source": [
    "print \"EXP. PARAMETERS:\"\n",
    "\n",
    "# Concentration (1/m3)\n",
    "c = 10 * umol/liter\n",
    "print \"Molecule concentration:  \\t c = %.1f uM\" % (c/(umol/liter))\n",
    "\n",
    "# Volumetric flow rate (m3/sec) of sample solution\n",
    "flow = 100 * nL/minute\n",
    "print \"Liquid volume flow rate: \\t f = %.2f mL/hour\" % (flow/(mL/hour))\n",
    "\n",
    "print \"\"\n",
    "print \"RESULT:\"\n",
    "\n",
    "# => Molecular flow rate (1/sec)\n",
    "F_ES = lambda flow, c: flow * c\n",
    "print \"Molecular flow rate:    \\t F_ES = %.3e 1/sec\" % (F_ES(flow, c))"
   ]
  },
  {
   "cell_type": "markdown",
   "metadata": {},
   "source": [
    "### 1.2) Electrospray ion current"
   ]
  },
  {
   "cell_type": "code",
   "execution_count": 7,
   "metadata": {},
   "outputs": [
    {
     "name": "stdout",
     "output_type": "stream",
     "text": [
      "EXP. PARAMETERS:\n",
      "Charge state: \t z = 17\n",
      "\n",
      "RESULT:\n",
      "Ion current of electrospray: \t 27.34 nA\n"
     ]
    }
   ],
   "source": [
    "print \"EXP. PARAMETERS:\"\n",
    "\n",
    "# Charge state for Haemoglobin\n",
    "z = 17\n",
    "print \"Charge state: \\t z = %i\" % z\n",
    "\n",
    "print \"\"\n",
    "print \"RESULT:\"\n",
    "\n",
    "# => Ion current of electrospray (A)\n",
    "I_ES = lambda f, c, z: z * electron * F_ES(f, c)\n",
    "print \"Ion current of electrospray: \\t %.2f nA\" % (I_ES(flow, c, z)/(nano*ampere))"
   ]
  },
  {
   "cell_type": "markdown",
   "metadata": {},
   "source": [
    "## 2) Molecules in vacuum amenable for imaging\n",
    "\n",
    "### 2.1) Molecule velocity at interaction point"
   ]
  },
  {
   "cell_type": "code",
   "execution_count": 8,
   "metadata": {},
   "outputs": [
    {
     "name": "stdout",
     "output_type": "stream",
     "text": [
      "EXP. PARAMETERS:\n",
      "Molecular mass: \t 64.0 kDa\n",
      "Kinetic energy: \t 5.0 eV\n",
      "\n",
      "RESULT:\n",
      "Velocity of ions: \t 122.8 m/s\n"
     ]
    }
   ],
   "source": [
    "print \"EXP. PARAMETERS:\"\n",
    "\n",
    "# Mass of Heamoglobin\n",
    "m = 64000*u\n",
    "print \"Molecular mass: \\t %.1f kDa\" % (m/kDa)\n",
    "\n",
    "# Kinetic energy of ions\n",
    "E = 5*eV\n",
    "print \"Kinetic energy: \\t %.1f eV\" % (E/eV)\n",
    "\n",
    "print \"\"\n",
    "print \"RESULT:\"\n",
    "\n",
    "# Velocity\n",
    "v = lambda E, m: sqrt(2*E/m)\n",
    "print \"Velocity of ions: \\t %.1f m/s\" % (v(E, m))"
   ]
  },
  {
   "cell_type": "markdown",
   "metadata": {},
   "source": [
    "### 2.2) Molecule flux and density at interaction point"
   ]
  },
  {
   "cell_type": "code",
   "execution_count": 13,
   "metadata": {},
   "outputs": [
    {
     "name": "stdout",
     "output_type": "stream",
     "text": [
      "EXP. PARAMETERS\n",
      "Effective ion current: \t 100.0 pA (transmission = 0.37 %)\n",
      "Particle beam diameter:\t 100.0 um\n",
      "X-ray beam diameter: \t 1.0 um\n",
      "RESULT:\n",
      "Beam cross section:         \t 7854.0 um2\n",
      "Beam fills volume per second: \t 964.34 mm3/s\n",
      "Particle flux:           \t 3.671e+07 1/sec\n",
      "Particle number density: \t 3.807e-05 1/um3\n",
      "Hit ratio:              \t 0.4 %\n"
     ]
    }
   ],
   "source": [
    "print \"EXP. PARAMETERS\"\n",
    "\n",
    "# Effective ion current\n",
    "I_eff = 100 * pA\n",
    "print \"Effective ion current: \\t %.1f pA (transmission = %.2f %%)\" % (I_eff/pA, I_eff/I_ES(flow, c, z)*100.)\n",
    "\n",
    "# Particle beam diameter\n",
    "d_beam = 100 * um\n",
    "print \"Particle beam diameter:\\t %.1f um\" % (d_beam/um)\n",
    "\n",
    "# X-ray beam diameter\n",
    "d_xray = 1 * um\n",
    "print \"X-ray beam diameter: \\t %.1f um\" % (d_xray/um)\n",
    "\n",
    "print \"RESULT:\"\n",
    "\n",
    "# Beam cross section\n",
    "A_beam = lambda d_beam: pi*(d_beam/2.)**2\n",
    "print \"Beam cross section:         \\t %.1f um2\" % (A_beam(d_beam)/(um)**2)\n",
    "\n",
    "# Fill volume in one second\n",
    "V_per_sec = lambda d_beam, E, m: A_beam(d_beam)*v(E, m)\n",
    "print \"Beam fills volume per second: \\t %.2f mm3/s\" % (V_per_sec(d_beam, E, m)/(mm**3/second))\n",
    "\n",
    "# Particle flux\n",
    "F_eff = lambda I_eff, z: I_eff/(z*electron)\n",
    "print \"Particle flux:           \\t %.3e 1/sec\" % F_eff(I_eff, z)\n",
    "\n",
    "# Particle number density\n",
    "rho = lambda I_eff, z, d_beam, E, m: F_eff(I_eff, z) / V_per_sec(d_beam, E, m)\n",
    "print \"Particle number density: \\t %.3e 1/um3\" % (rho(I_eff, z, d_beam, E, m)*um**3)\n",
    "\n",
    "# Hit ratio\n",
    "hit_ratio = lambda I_eff, z, d_beam, E, m, d_xray: rho(I_eff, z, d_beam, E, m) * (d_xray**2*d_beam)\n",
    "print \"Hit ratio:              \\t %.1f %%\" % (hit_ratio(I_eff, z, d_beam, E, m, d_xray)*100.)"
   ]
  },
  {
   "attachments": {},
   "cell_type": "markdown",
   "metadata": {},
   "source": [
    "### 2.3) Molecule bunching for EuXFEL\n",
    "\n",
    "\n",
    "<img src=\"euxfel_time_structure.png\" alt=\"Drawing\" style=\"width: 600px;\"/>\n",
    "\n",
    "*Reference:* Schneidmiller and Yurkov, 2011 (doi:10.3204/DESY11-152)"
   ]
  },
  {
   "cell_type": "code",
   "execution_count": 55,
   "metadata": {},
   "outputs": [
    {
     "name": "stdout",
     "output_type": "stream",
     "text": [
      "EXP. PARAMETERS:\n",
      "Time between trains:    \t 100000.0 us\n",
      "Time between pulses in train: \t 0.220 us\n",
      "Pulse train duration:    \t 600.0 us\n",
      "\n",
      "RESULT\n",
      "Increase of hit ratio if ions bunched in sync with trains: Bunching factor 166.7\n",
      "Desired ion bunch length: \t 73.7 mm\n",
      "Hit ratio is using ion bunching: 63.5 %\n"
     ]
    }
   ],
   "source": [
    "print \"EXP. PARAMETERS:\"\n",
    "\n",
    "t_period = 100. * milli*second\n",
    "print \"Time between trains:    \\t %.1f us\" % (t_period/(micro*second))\n",
    "\n",
    "t_pulse = 220. * nano*second\n",
    "print \"Time between pulses in train: \\t %.3f us\" % (t_pulse/(micro*second))\n",
    "\n",
    "t_train = 600. * micro*second\n",
    "print \"Pulse train duration:    \\t %.1f us\" % (t_train/(micro*second))\n",
    "\n",
    "\n",
    "print \"\"\n",
    "print \"RESULT\"\n",
    "\n",
    "bunching_factor = lambda t_period, t_train: t_period/t_train\n",
    "print \"Increase of hit ratio if ions bunched in sync with trains: Bunching factor %.1f\" % bunching_factor(t_period, t_train) \n",
    "\n",
    "ion_bunch_length = lambda t_train, E, m: t_train*v(E, m)\n",
    "print \"Desired ion bunch length: \\t %.1f mm\" % (ion_bunch_length(t_train, E, m)/mm)\n",
    "\n",
    "hit_ratio_bunched = lambda I_eff, z, d_beam, E, m, d_xray, t_period, t_train: hit_ratio(I_eff, z, d_beam, E, m, d_xray) * bunching_factor(t_period, t_train) \n",
    "print \"Hit ratio is using ion bunching: %.1f %%\" % (hit_ratio_bunched(I_eff, z, d_beam, E, m, d_xray, t_period, t_train)*100.)"
   ]
  },
  {
   "cell_type": "markdown",
   "metadata": {},
   "source": [
    "### 2.4) Particle velocities and X-ray pulse separation"
   ]
  },
  {
   "cell_type": "code",
   "execution_count": 40,
   "metadata": {},
   "outputs": [
    {
     "name": "stdout",
     "output_type": "stream",
     "text": [
      "Min. velocity to repopulate interaction volume between pulses: 4.5 m/s\n"
     ]
    },
    {
     "data": {
      "image/png": "[encoded data removed]",
      "text/plain": [
       "<matplotlib.figure.Figure at 0x10ffb40d0>"
      ]
     },
     "metadata": {},
     "output_type": "display_data"
    }
   ],
   "source": [
    "m_arr = linspace(50, 1000, 100) * kDa\n",
    "v_arr = v(E, m_arr)\n",
    "plot(m_arr/kDa, v_arr, label=\"Velocity if slowed down to %.1f eV\" % (E/eV))\n",
    "v_min = lambda d_xray, t_pulse: d_xray/t_pulse\n",
    "print \"Min. velocity to repopulate interaction volume between pulses: %.1f m/s\" % (v_min(d_xray, t_pulse))\n",
    "axhline(v_min(d_xray, t_pulse), ls=\"--\", color=\"C1\", label=\"Limit to repopulate interaction volume between pulses\")\n",
    "xlim(0, 1000)\n",
    "xlabel(\"Molecule mass [kDa]\")\n",
    "ylabel(\"Velocity [m/s]\")\n",
    "legend()\n",
    "sns.despine()"
   ]
  },
  {
   "cell_type": "markdown",
   "metadata": {},
   "source": [
    "### 2.5) Hit ratio as a function of molecule beam width"
   ]
  },
  {
   "cell_type": "code",
   "execution_count": 53,
   "metadata": {},
   "outputs": [
    {
     "data": {
      "image/png": "[encoded data removed]",
      "text/plain": [
       "<matplotlib.figure.Figure at 0x11107ec90>"
      ]
     },
     "metadata": {},
     "output_type": "display_data"
    }
   ],
   "source": [
    "d_beam_arr = linspace(10, 1000, 100) * um\n",
    "hit_ratio_arr = hit_ratio(I_eff, z, d_beam_arr, E, m, d_xray)\n",
    "semilogx(d_beam_arr/um, hit_ratio_arr*100.)\n",
    "grid(True)\n",
    "xlabel(\"Molecule beam width [um]\")\n",
    "ylabel(\"Hit ratio [%]\")\n",
    "legend()\n",
    "sns.despine()"
   ]
  },
  {
   "cell_type": "markdown",
   "metadata": {},
   "source": [
    "### 2.6) Hit ratio as a function of bunching factor"
   ]
  },
  {
   "cell_type": "code",
   "execution_count": 59,
   "metadata": {},
   "outputs": [
    {
     "data": {
      "image/png": "[encoded data removed]",
      "text/plain": [
       "<matplotlib.figure.Figure at 0x110ab3550>"
      ]
     },
     "metadata": {},
     "output_type": "display_data"
    }
   ],
   "source": [
    "bunching_factor_arr = linspace(1, 1E3)\n",
    "hit_ratio_bunched_arr = hit_ratio_bunched(I_eff, z, d_beam, E, m, d_xray, bunching_factor_arr, 1.)\n",
    "semilogx(bunching_factor_arr, hit_ratio_bunched_arr*100.)\n",
    "axvline(bunching_factor(t_period, t_train), ls=\"--\", color=\"C2\", label=\"Bunching at 10 Hz to EuXFEL trains\")\n",
    "grid(True)\n",
    "xlabel(\"Bunching factor\")\n",
    "ylabel(\"Hit ratio [%]\")\n",
    "legend()\n",
    "sns.despine()"
   ]
  },
  {
   "cell_type": "code",
   "execution_count": null,
   "metadata": {
    "collapsed": true
   },
   "outputs": [],
   "source": []
  }
 ],
 "metadata": {
  "kernelspec": {
   "display_name": "Python 2",
   "language": "python",
   "name": "python2"
  },
  "language_info": {
   "codemirror_mode": {
    "name": "ipython",
    "version": 2
   },
   "file_extension": ".py",
   "mimetype": "text/x-python",
   "name": "python",
   "nbconvert_exporter": "python",
   "pygments_lexer": "ipython2",
   "version": "2.7.13"
  }
 },
 "nbformat": 4,
 "nbformat_minor": 2
}
