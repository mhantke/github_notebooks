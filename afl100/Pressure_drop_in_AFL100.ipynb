{
 "cells": [
  {
   "cell_type": "markdown",
   "metadata": {},
   "source": [
    "# Aerodynamic lens pressures for AFL-100\n",
    "\n",
    "---\n",
    "__Goal__\n",
    "\n",
    "We want to determine the nozzle pressure (i.e. the pressure upstream of the last orifice of the aerodynamic lens). This will enable us to determine the Stokes number. This will help us to check our results from aerosol particle tracking for consitency and compare to literature.\n",
    "\n",
    "---"
   ]
  },
  {
   "cell_type": "code",
   "execution_count": 1,
   "metadata": {},
   "outputs": [
    {
     "name": "stdout",
     "output_type": "stream",
     "text": [
      "Populating the interactive namespace from numpy and matplotlib\n"
     ]
    }
   ],
   "source": [
    "# Import modules\n",
    "%pylab inline\n",
    "import scipy.constants"
   ]
  },
  {
   "cell_type": "code",
   "execution_count": 2,
   "metadata": {
    "collapsed": true
   },
   "outputs": [],
   "source": [
    "# Unit conversions\n",
    "SI_to_mg_per_min = lambda v: v*1E6*60.\n",
    "SI_to_mbar = lambda v: v/100.\n",
    "mbar_to_SI = lambda v: v*100.\n",
    "SI_to_mm = lambda v: v*1E3"
   ]
  },
  {
   "cell_type": "markdown",
   "metadata": {},
   "source": [
    "### _Flags_"
   ]
  },
  {
   "cell_type": "code",
   "execution_count": 3,
   "metadata": {
    "collapsed": true
   },
   "outputs": [],
   "source": [
    "do_checks = False"
   ]
  },
  {
   "cell_type": "markdown",
   "metadata": {},
   "source": [
    "## Lens geometry\n",
    "\n",
    "![title](afl100.png)"
   ]
  },
  {
   "cell_type": "code",
   "execution_count": 4,
   "metadata": {
    "collapsed": true
   },
   "outputs": [],
   "source": [
    "# AFL100\n",
    "# Orifice diameters [m]\n",
    "D_lenses = asarray([5.1, 4.1, 3.5, 2.9, 2.9, 7.75, 1.5])*1E-3\n",
    "# Tube diameters [m]\n",
    "D_tubes  = asarray([17.85, 17.85, 17.85, 17.85, 17.85, 17.85, 7.75, 7.75])*1E-3\n",
    "# Spacer lengths [m] (will not be needed in these calculations)\n",
    "L_spacers = asarray([57.15, 57.15, 57.15, 57.15, 57.15, 69.85, 25.6])*1E-3"
   ]
  },
  {
   "cell_type": "markdown",
   "metadata": {},
   "source": [
    "### _Fixed gas properties_"
   ]
  },
  {
   "cell_type": "code",
   "execution_count": 5,
   "metadata": {
    "collapsed": true
   },
   "outputs": [],
   "source": [
    "# Temperature (room temp.) [K]\n",
    "T = 293."
   ]
  },
  {
   "cell_type": "markdown",
   "metadata": {},
   "source": [
    "### _Physical constants_"
   ]
  },
  {
   "cell_type": "code",
   "execution_count": 6,
   "metadata": {},
   "outputs": [],
   "source": [
    "# Ratio of specific heats cp/cv\n",
    "gamma = 1.67\n",
    "# Molar mass [kg]\n",
    "M = 4.002602E-3\n",
    "# Gas constant\n",
    "R = scipy.constants.R\n",
    "# Boltmann constant\n",
    "kB = scipy.constants.k"
   ]
  },
  {
   "cell_type": "markdown",
   "metadata": {},
   "source": [
    "### _Properties for He_"
   ]
  },
  {
   "cell_type": "code",
   "execution_count": 7,
   "metadata": {
    "collapsed": true
   },
   "outputs": [],
   "source": [
    "# Ideal gas law\n",
    "rho = lambda p: p * M / (R * T) # Ideal gas\n",
    "# Sutherland's law\n",
    "# Dynamic viskosity (https://en.wikipedia.org/wiki/Viscosity)\n",
    "T_mu = 273.\n",
    "mu_mu = 19E-6\n",
    "C_mu = 79.4\n",
    "mu = lambda T: mu_mu * (T_mu + C_mu)/(T + C_mu) *(T/T_mu)**(3/2.)\n",
    "# Gas density at standard conditions\n",
    "rho0 = rho(p=1E5)\n",
    "# Collistion molecule diameter\n",
    "d_molecule = 2.6E-10\n",
    "# Most common gas molecule velocity (Boltzmann gas)\n",
    "v0 = sqrt(2 * kB * T / (M / scipy.constants.N_A))"
   ]
  },
  {
   "cell_type": "markdown",
   "metadata": {},
   "source": [
    "### _Gauge correction for He_"
   ]
  },
  {
   "cell_type": "code",
   "execution_count": 8,
   "metadata": {
    "collapsed": true
   },
   "outputs": [],
   "source": [
    "# Gauge correction factor for chamber pressure\n",
    "gauge_correction_factor_chamber = 0.18\n",
    "# Gauge correction factor for injector pressure\n",
    "# http://www.thinksrs.com/downloads/PDFs/ApplicationNotes/IG1pggasapp.pdf\n",
    "_p_N_reading = [1.33322,\n",
    "                2.66644,\n",
    "                3.99966,\n",
    "                5.33288,\n",
    "                6.6661,\n",
    "                7.99932,\n",
    "                9.33254,\n",
    "                10.66576,\n",
    "                11.99898,\n",
    "                13.3322,\n",
    "                14.66542]\n",
    "_p_He_actual = [1.33322*1.1,\n",
    "                2.133152,\n",
    "                2.66644,\n",
    "                3.199728,\n",
    "                3.599694,\n",
    "                3.733016,\n",
    "                3.99966,\n",
    "                4.132982,\n",
    "                4.266304,\n",
    "                4.799592,\n",
    "                6.6661]\n",
    "p_He = lambda p_N_reading: (np.where(p_N_reading < 1.33322, 1.1 * p_N_reading,\n",
    "                                     np.interp(p_N_reading,\n",
    "                                               _p_N_reading,\n",
    "                                               _p_He_actual)))"
   ]
  },
  {
   "cell_type": "markdown",
   "metadata": {},
   "source": [
    "## Chamber pressure as a function of injector pressure"
   ]
  },
  {
   "cell_type": "code",
   "execution_count": 9,
   "metadata": {
    "collapsed": true
   },
   "outputs": [],
   "source": [
    "# Data set 1 from Johan \n",
    "# Chamber pressure (not gauge corrected for He!)\n",
    "p_ch_1  = asarray([1.2, 1.9, 2.5, 3.4, 4.6, 5.4, 6.3, 7.4, 8.6, 10.]) * 1E-5 * 100. / gauge_correction_factor_chamber # Pa\n",
    "# Injector pressure (gauge corrected for He)\n",
    "p_inj_1 = asarray([p_He(p) for p in [0.031, 0.34, 0.61, 0.99, 1.37, 1.83, 2.88, 4., 5.5, 6.97]]) * 100. # Pa"
   ]
  },
  {
   "cell_type": "code",
   "execution_count": 10,
   "metadata": {
    "collapsed": true
   },
   "outputs": [],
   "source": [
    "# Linear interplation formulas\n",
    "p_ch_interp = lambda p_inj: interp(p_inj, p_inj_1, p_ch_1)\n",
    "p_inj_interp = lambda p_ch: interp(p_ch, p_ch_1, p_inj_1)"
   ]
  },
  {
   "cell_type": "code",
   "execution_count": 11,
   "metadata": {},
   "outputs": [
    {
     "data": {
      "image/png": "[encoded data removed]",
      "text/plain": [
       "<matplotlib.figure.Figure at 0x115662890>"
      ]
     },
     "metadata": {},
     "output_type": "display_data"
    }
   ],
   "source": [
    "figsize(3,3)\n",
    "plot(p_ch_1, p_inj_1, \"o-\")\n",
    "xlabel(\"Chamber pressure [Pa]\")\n",
    "ylabel(\"Injector pressure [Pa]\")\n",
    "if do_checks:\n",
    "    # Check interpolation formula\n",
    "    axvline(1.E-4*100, color=\"black\", ls=\"--\")\n",
    "    axhline(p_inj_interp(1.E-4*100.), color=\"black\", ls=\"--\")"
   ]
  },
  {
   "cell_type": "markdown",
   "metadata": {},
   "source": [
    "## Mass flow measurements vs. mass flow prediction by Wang's Lens Calculator"
   ]
  },
  {
   "cell_type": "code",
   "execution_count": 12,
   "metadata": {},
   "outputs": [
    {
     "name": "stdout",
     "output_type": "stream",
     "text": [
      "[  90.32222222  266.6576      363.0084    ] [ 0.01666667  0.04111111  0.05555556]\n"
     ]
    }
   ],
   "source": [
    "# Data set 2 from Johan \n",
    "# Chamber pressure (gauge corrected for He)\n",
    "p_ch_2 = asarray([3.0, 7.4, 10.])*1E-5 * 100. / gauge_correction_factor_chamber # Pa\n",
    "# Injector pressure (not gauge corrected for He!)\n",
    "p_inj_2 = asarray([p_inj_interp(p) for p in p_ch_2]) # Pa\n",
    "# Volume flow for gas at standard conditions\n",
    "vol_flow_2 = asarray([0.013, 0.07, 0.11]) * 1E-3/60. # slm * 1E-3/60. = m3/sec\n",
    "# Mass flow for gas assuming gas at standard conditions\n",
    "mass_flow_2 = vol_flow_2 * rho0 # kg/sec\n",
    "print p_inj_2, p_ch_2"
   ]
  },
  {
   "cell_type": "code",
   "execution_count": 13,
   "metadata": {
    "collapsed": true
   },
   "outputs": [],
   "source": [
    "# Lens calculator result (not availale for lowest pressure because Kn > 0.1)\n",
    "vol_flow_2_lenscal = asarray([nan, 0.0561, 0.0954]) * 1E-3/60. # slm * 1E-3/60. = m3/sec\n",
    "# Mass flow for gas assuming gas at standard conditions\n",
    "mass_flow_2_lenscal = vol_flow_2_lenscal * rho0 # kg/sec"
   ]
  },
  {
   "cell_type": "code",
   "execution_count": 14,
   "metadata": {
    "collapsed": true
   },
   "outputs": [],
   "source": [
    "# Interpolation formulas\n",
    "vol_flow_interp = lambda p_inj: interp(p_inj, p_inj_2, vol_flow_2)\n",
    "mass_flow_interp = lambda p_inj : interp(p_inj, p_inj_2, mass_flow_2)"
   ]
  },
  {
   "cell_type": "code",
   "execution_count": 15,
   "metadata": {},
   "outputs": [
    {
     "data": {
      "image/png": "[encoded data removed]",
      "text/plain": [
       "<matplotlib.figure.Figure at 0x10d7c1290>"
      ]
     },
     "metadata": {},
     "output_type": "display_data"
    }
   ],
   "source": [
    "plot(p_inj_2/100., SI_to_mg_per_min(mass_flow_2), \"-o\", label=\"Experiment\")\n",
    "plot(p_inj_2/100., SI_to_mg_per_min(mass_flow_2_lenscal), \"-o\", label=\"Lens Calculator\")\n",
    "xlabel(\"Injector pressure [mbar]\")\n",
    "ylabel(\"Mass flow [kg/sec]\")\n",
    "legend()\n",
    "if do_checks:\n",
    "    # Check interpolation formula\n",
    "    axvline(1., color=\"black\", ls=\"--\")\n",
    "    axhline(SI_to_mg_per_min(mass_flow_interp(1*100.)), color=\"black\", ls=\"--\")"
   ]
  },
  {
   "cell_type": "markdown",
   "metadata": {},
   "source": [
    "## Reynolds number"
   ]
  },
  {
   "cell_type": "markdown",
   "metadata": {},
   "source": [
    "$\\text{Re} = \\frac{\\rho_1 u d_f}{\\mu} = \\frac{4 \\dot{m}}{\\pi \\mu d_f}$ (Wang 2005, eq. 5)"
   ]
  },
  {
   "cell_type": "code",
   "execution_count": 16,
   "metadata": {},
   "outputs": [],
   "source": [
    "# Reynolds number\n",
    "Re = lambda D_lens, mass_flow: 4 * mass_flow / (pi * mu(T=T) * D_lens) # Wang 2005 eq. 5"
   ]
  },
  {
   "cell_type": "code",
   "execution_count": 17,
   "metadata": {},
   "outputs": [
    {
     "data": {
      "text/plain": [
       "(0.41077955942835181, 800.0)"
      ]
     },
     "execution_count": 17,
     "metadata": {},
     "output_type": "execute_result"
    },
    {
     "data": {
      "image/png": "[encoded data removed]",
      "text/plain": [
       "<matplotlib.figure.Figure at 0x118b75910>"
      ]
     },
     "metadata": {},
     "output_type": "display_data"
    }
   ],
   "source": [
    "title(\"Re at first orifice\")\n",
    "p_up_arr = linspace(100, 300, 1000)\n",
    "Re_arr = Re(D_lens=D_lenses[0], mass_flow=mass_flow_interp(p_up_arr))\n",
    "plot(SI_to_mbar(p_up_arr), Re_arr)\n",
    "xlabel(\"$p_{nozzle}$ [mbar]\")\n",
    "ylabel(\"Re\")\n",
    "yscale(\"log\")\n",
    "# Transition by Wang, 2006, eq. 1\n",
    "Re_crit = 200.\n",
    "axhline(Re_crit, ls=\"--\", color=\"black\")\n",
    "text(3.0, Re_crit/2, \"Laminar\", va=\"center\", ha=\"right\")\n",
    "text(3.0, Re_crit*2, \"Turbulent\", va=\"center\", ha=\"right\")\n",
    "ylim(None, Re_crit*4)"
   ]
  },
  {
   "cell_type": "markdown",
   "metadata": {},
   "source": [
    "## Knudsen number (Wang)\n",
    "\n",
    "Nozzle pressure maybe high enough for $Kn > 0.1$?"
   ]
  },
  {
   "cell_type": "code",
   "execution_count": 18,
   "metadata": {},
   "outputs": [],
   "source": [
    "# Mean free path of gas molecules\n",
    "mean_free_path = lambda p: (kB * T)/(sqrt(2)*pi*d_molecule**2*p)\n",
    "# Knudsen number as defined by Wang 2006, eq. 3\n",
    "Kn = lambda p, D_lens: 2*mean_free_path(p)/D_lens"
   ]
  },
  {
   "cell_type": "markdown",
   "metadata": {},
   "source": [
    "Knudsen number at the exit nozzle as a function of the nozzle pressure $p_\\text{nozzle}$."
   ]
  },
  {
   "cell_type": "code",
   "execution_count": 19,
   "metadata": {},
   "outputs": [
    {
     "data": {
      "text/plain": [
       "(0.001, 35832.567049030746)"
      ]
     },
     "execution_count": 19,
     "metadata": {},
     "output_type": "execute_result"
    },
    {
     "data": {
      "image/png": "[encoded data removed]",
      "text/plain": [
       "<matplotlib.figure.Figure at 0x118a6ce50>"
      ]
     },
     "metadata": {},
     "output_type": "display_data"
    }
   ],
   "source": [
    "title(\"Kn at exit nozzle\")\n",
    "p_up_arr = linspace(1E-3, 1000, 1000)\n",
    "plot(SI_to_mbar(p_up_arr), Kn(p_up_arr, D_lenses[-1]))\n",
    "xlabel(\"$p_{nozzle}$ [mbar]\")\n",
    "ylabel(\"Kn\")\n",
    "yscale(\"log\")\n",
    "# Transition limit by Wang\n",
    "Kn_crit = 0.1\n",
    "axhline(Kn_crit, ls=\"--\", color=\"black\")\n",
    "text(10.0, Kn_crit/10, \"Continuum flow\", va=\"center\", ha=\"right\")\n",
    "text(10.0, Kn_crit*10, \"Free-molecule\", va=\"center\", ha=\"right\")\n",
    "ylim(Kn_crit/100, None)"
   ]
  },
  {
   "cell_type": "markdown",
   "metadata": {},
   "source": [
    "## Rarification parameter $\\delta$ (Sharipov)"
   ]
  },
  {
   "cell_type": "code",
   "execution_count": 20,
   "metadata": {},
   "outputs": [],
   "source": [
    "# Rarification parameter by Sharipov\n",
    "rarif = lambda p, D_lens: D_lens/2 * p / (mu(T=T) * v0)"
   ]
  },
  {
   "cell_type": "code",
   "execution_count": 21,
   "metadata": {},
   "outputs": [
    {
     "data": {
      "text/plain": [
       "(1.6147519513544895e-05, 10000.0)"
      ]
     },
     "execution_count": 21,
     "metadata": {},
     "output_type": "execute_result"
    },
    {
     "data": {
      "image/png": "[encoded data removed]",
      "text/plain": [
       "<matplotlib.figure.Figure at 0x119037cd0>"
      ]
     },
     "metadata": {},
     "output_type": "display_data"
    }
   ],
   "source": [
    "title(\"$\\delta$ at exit nozzle\")\n",
    "p_up_arr = linspace(1E-3, 1000, 1000)\n",
    "plot(SI_to_mbar(p_up_arr), rarif(p_up_arr, D_lenses[-1]))\n",
    "yscale(\"log\")\n",
    "xlabel(\"Pressure [mbar]\")\n",
    "ylabel(\"$\\delta$\")\n",
    "# Transition limit by Sharipov\n",
    "rarif_crit = 100.\n",
    "axhline(rarif_crit, ls=\"--\", color=\"black\")\n",
    "text(10.0, rarif_crit*10, \"Continuum flow\", va=\"center\", ha=\"right\")\n",
    "text(10.0, rarif_crit/10, \"Free-molecule\", va=\"center\", ha=\"right\")\n",
    "ylim(None, rarif_crit*100)"
   ]
  },
  {
   "cell_type": "markdown",
   "metadata": {},
   "source": [
    "## 1) Mass flow through an orifice: Wang, 2005\n",
    "\n",
    "Limited to $Kn<0.1$ and $Re\\le200$!\n",
    "\n",
    "The hydrodynamic mass flow equation (Wang, 2005) eq. 4:\n",
    "\n",
    "$\\dot{M} = A_f \\frac{C_d Y(p_0, p_1)}{\\sqrt{1-\\beta^4}} \\sqrt{2 \\rho (p_1-p_0) }$\n",
    "  \n",
    "- The orifice area $A_f$ is defined with the diameter $D$ of the orifice as\n",
    "\n",
    "    $A_f = \\pi (D/2)^2$\n",
    "    \n",
    "    \n",
    "- The constriction ratio is the diameter $D$ of the orifice divided by the diameter $T$ of the tube.\n",
    "\n",
    "    $\\beta = \\frac{D}{T}$\n",
    "    \n",
    "\n",
    "- Expansion factor (Bean, 1971):\n",
    "\n",
    "    $Y(p_0, p_1) = 1 - (0.410 + 0.350 \\beta^4) \\frac{p_1-p_0}{\\gamma p_0}$"
   ]
  },
  {
   "cell_type": "markdown",
   "metadata": {},
   "source": [
    "### 1.1) Discharge coefficient\n",
    "\n",
    "This is taken directly from eq. 7 of Wang, 2005."
   ]
  },
  {
   "cell_type": "code",
   "execution_count": 22,
   "metadata": {},
   "outputs": [],
   "source": [
    "def C_d(Re):\n",
    "    if Re < 11.1: # Better than 12\n",
    "        return (0.1373*Re**0.5)\n",
    "    elif Re < 5000:\n",
    "        return (1.118 - 0.8873 * log(Re) +\n",
    "                0.3953 * log(Re)**2 -\n",
    "                0.07081 * log(Re)**3 +\n",
    "                0.005551 * log(Re)**4 -\n",
    "                0.0001581 * log(Re)**5)\n",
    "    else:\n",
    "        return 0.59"
   ]
  },
  {
   "cell_type": "code",
   "execution_count": 23,
   "metadata": {},
   "outputs": [
    {
     "data": {
      "text/plain": [
       "<matplotlib.text.Text at 0x1190c9750>"
      ]
     },
     "execution_count": 23,
     "metadata": {},
     "output_type": "execute_result"
    },
    {
     "data": {
      "image/png": "[encoded data removed]",
      "text/plain": [
       "<matplotlib.figure.Figure at 0x115605d90>"
      ]
     },
     "metadata": {},
     "output_type": "display_data"
    }
   ],
   "source": [
    "Re_arr = 10**(linspace(-1, 4, 1000))\n",
    "Cd_arr = asarray([C_d(r) for r in Re_arr])\n",
    "\n",
    "figsize(3,3)\n",
    "plot(Re_arr, Cd_arr)\n",
    "xscale('log')\n",
    "xlabel(\"Re\")\n",
    "ylabel(\"$C_d$\")"
   ]
  },
  {
   "cell_type": "markdown",
   "metadata": {},
   "source": [
    "### 1.2) Mass flow"
   ]
  },
  {
   "cell_type": "code",
   "execution_count": 24,
   "metadata": {
    "collapsed": true
   },
   "outputs": [],
   "source": [
    "Y = lambda p0, p1, beta: 1 - (0.410 + 0.350 * beta**4) * (p0-p1)/p0/gamma\n",
    "mass_flow_wang = lambda p0, p1, Re, Af, beta: Af * C_d(Re=Re) * Y(p0=p0, p1=p1, beta=beta) / sqrt(1-beta**4) * \\\n",
    "                                                sqrt(2 * rho(p=p0) * (p0-p1))    "
   ]
  },
  {
   "cell_type": "markdown",
   "metadata": {},
   "source": [
    "### 1.3) Post-nozzle pressure"
   ]
  },
  {
   "cell_type": "code",
   "execution_count": 25,
   "metadata": {},
   "outputs": [],
   "source": [
    "# Predict pressure after the nozzle:\n",
    "# The solution of eq. 4 gets messy for p_1 - therefore I solve it numerically by interpolation.\n",
    "def p1_wang(mass_flow1, p0, D_lens, D_tube, do_plot=False):\n",
    "    Af_fixed = pi*(D_lens/2.)**2\n",
    "    beta_fixed = D_lens/D_tube\n",
    "    Re_fixed = Re(D_lens, mass_flow1)\n",
    "    p1_arr = linspace(0, p0, 1000000)\n",
    "    mf = mass_flow_wang(p0=p0, p1=p1_arr, Re=Re_fixed, Af=Af_fixed, beta=beta_fixed)\n",
    "    order = mf.argsort()\n",
    "    p1_interp = interp(mass_flow1, mf[order], p1_arr[order])\n",
    "    if do_plot:\n",
    "        figure()\n",
    "        plot(p1_arr, mf)\n",
    "        axhline(mass_flow1, color=\"black\", ls=\"--\")\n",
    "        axvline(p1_interp, color=\"black\", ls=\"--\")\n",
    "        xlabel(\"Pressure downstream [Pa]\")\n",
    "        ylabel(\"Mass flow rate [kg/sec]\")\n",
    "    if p1_interp == p1_arr[-1]:\n",
    "        return nan\n",
    "    return p1_interp"
   ]
  },
  {
   "cell_type": "markdown",
   "metadata": {},
   "source": [
    "___Simple example___"
   ]
  },
  {
   "cell_type": "code",
   "execution_count": 26,
   "metadata": {},
   "outputs": [
    {
     "name": "stdout",
     "output_type": "stream",
     "text": [
      "Fix conditions to\n",
      "p_0: 1.500 mbar\n",
      "D_lens: 5.10 mm\n",
      "D_tube: 17.85 mm\n",
      "Mass flow: 8.842336e-08 kg/sec (5.305401 mg/min)\n",
      "Re = 1.1\n",
      "RESULT: p_1 = 1.482 mbar\n"
     ]
    },
    {
     "data": {
      "image/png": "[encoded data removed]",
      "text/plain": [
       "<matplotlib.figure.Figure at 0x118c61cd0>"
      ]
     },
     "metadata": {},
     "output_type": "display_data"
    }
   ],
   "source": [
    "# Fix conditions for example\n",
    "i_lens_fixed = 0\n",
    "D_lens_fixed = D_lenses[i_lens_fixed]\n",
    "D_tube_fixed = D_tubes[i_lens_fixed]\n",
    "beta = lambda D_lens, D_tube: D_lens/D_tube\n",
    "beta_fixed = beta(D_lens=D_lens_fixed, D_tube=D_tube_fixed)\n",
    "Af_fixed = pi*(D_lens_fixed/2.)**2\n",
    "p0_fixed = mbar_to_SI(1.5) # Pa\n",
    "mass_flow_fixed = mass_flow_interp(p_inj=p0_fixed) # kg/sec\n",
    "Re_fixed = Re(D_lens=D_lens_fixed, mass_flow=mass_flow_fixed)\n",
    "print \"Fix conditions to\"\n",
    "print \"p_0: %.3f mbar\" % SI_to_mbar(p0_fixed)\n",
    "print \"D_lens: %.2f mm\" % SI_to_mm(D_lens_fixed)\n",
    "print \"D_tube: %.2f mm\" % SI_to_mm(D_tube_fixed)\n",
    "print \"Mass flow: %e kg/sec (%f mg/min)\" % (mass_flow_fixed, SI_to_mg_per_min(mass_flow_fixed))\n",
    "print \"Re = %.1f\" % Re_fixed\n",
    "\n",
    "p1_arr = linspace(0., 20., 1000000)\n",
    "p1 = p1_wang(mass_flow1=mass_flow_fixed, p0=p0_fixed, D_lens=D_lens_fixed, D_tube=D_tube_fixed, do_plot=True)\n",
    "\n",
    "print \"RESULT: p_1 = %.3f mbar\" % SI_to_mbar(p1)"
   ]
  },
  {
   "cell_type": "markdown",
   "metadata": {},
   "source": [
    "## 2) Mass flow through an orifice: Sharipov, 2004\n",
    "\n",
    "### 2.1) Free-molecule regime ($\\delta=0$)\n",
    "\n",
    "Sharipov cites for this formula for the mass flow rate at $\\delta=0$ Bird, 1994:\n",
    "\n",
    "$\\dot{M}_0 = \\frac{A_f}{v_0} P_0$\n",
    "\n",
    "### 2.2) Near the free-molecule regime ($0<\\delta<100$)\n",
    "\n",
    "Sharipov derives an empirical formula from his numerical results for rarified conditions $0<\\delta<10$ near the free-molecule regime ($\\delta=0$).\n",
    "\n",
    "The reduced mass flowrate:\n",
    "\n",
    "$W = \\frac{\\dot{M}}{\\dot{M}_0} = \\left( 1 - \\frac{P_1}{P_0} \\right) \\left( 1 + A_{P_1/P_2} \\delta \\right)$ \n",
    "\n",
    "$A_{P_1/P_2}$ is an emprically determined parameter, which is a function of the pressure ratio.\n",
    "\n",
    "### 2.3) Hydrodynamic regime ($\\delta\\gg1$)\n",
    "\n",
    "For the hydrodynamic ($\\delta \\gg 1$) and isoentropic ($Re \\ll 1$) regime mass flow can be described using the Euler equation and this results in the following set of equations (Sharipov, 2004):\n",
    "\n",
    "Critical pressure ratio:\n",
    "\n",
    "$\\left(\\frac{P_1}{P_0}\\right)^* = \\left( \\frac{2}{\\gamma+1} \\right)^{\\gamma/(\\gamma-1)}$\n",
    "\n",
    "- __Not choked__:\n",
    "\n",
    "    $\\frac{P_1}{P_0}>\\left(\\frac{P_1}{P_0}\\right)^*$ \n",
    "\n",
    "    $\\dot{M} = 2 C \\dot{M}_0 \\left( \\frac{P_1}{P_0} \\right)^{1/\\gamma} \n",
    "        \\left[ \\frac{\\pi\\gamma}{\\gamma-1}\n",
    "        \\left( 1-\\frac{P_1}{P_0} \\right)^{(\\gamma+1)/2} \n",
    "        \\right]^{1/2}$\n",
    "\n",
    "\n",
    "- __Choked regime__: \n",
    "    \n",
    "    $\\frac{P_1}{P_0}\\le \\left(\\frac{P_1}{P_0}\\right)^*$ \n",
    "    \n",
    "    $\\dot{M}_n = C \\dot{M}_0 \\sqrt{2 \\pi \\gamma} \\left( \\frac{2}{\\gamma + 1} \\right)^{\\frac{\\gamma+1}{2(\\gamma-1)}}$\n",
    "    \n",
    "The discharge coefficient (different from Wang's definition) is a correction factor for orifice flow (i.e. special case of nozzle flow) and depends on the orifice dimensions and $\\gamma$. I use the value 0.853 from Jitschin et al., 1999 for He and $L/a=0.0162$."
   ]
  },
  {
   "cell_type": "code",
   "execution_count": 27,
   "metadata": {},
   "outputs": [
    {
     "name": "stdout",
     "output_type": "stream",
     "text": [
      "Critical pressure ratio for He: 0.486669\n"
     ]
    }
   ],
   "source": [
    "# Critical pressure ratio for He\n",
    "ratio_c = (2./(gamma+1))**(gamma/(gamma-1))\n",
    "print \"Critical pressure ratio for He: %f\" % ratio_c"
   ]
  },
  {
   "cell_type": "code",
   "execution_count": 28,
   "metadata": {
    "collapsed": true
   },
   "outputs": [],
   "source": [
    "# Jitschin, 1999 for our kind of nozzles (see comment above)\n",
    "C_d_jitschin = 0.853 "
   ]
  },
  {
   "cell_type": "code",
   "execution_count": 29,
   "metadata": {
    "collapsed": true
   },
   "outputs": [],
   "source": [
    "# Empirical parameter interpolation for close to molecular-flow formula\n",
    "_A_A_sharipov = asarray([0.13, 0.15, 0.23, 0.31])\n",
    "_A_ratio_sharipov = asarray([0.0, 0.1, 0.5, 0.9])\n",
    "A_sharipov = lambda ratio: interp(ratio, _A_ratio_sharipov, _A_A_sharipov)"
   ]
  },
  {
   "cell_type": "code",
   "execution_count": 35,
   "metadata": {},
   "outputs": [],
   "source": [
    "# Mass flow rate rate prediction\n",
    "def mass_flow_sharipov(p0, p1, D_lens, verbose=False):\n",
    "    errs = []\n",
    "    mfns = []    \n",
    "    _delta = rarif(p=p0, D_lens=D_lens)\n",
    "    ratio = p1/p0\n",
    "    mf0 = sqrt(pi)*(D_lens/2.)**2 / v0 * p0\n",
    "    if _delta <= 100.:\n",
    "        if verbose:\n",
    "            print \"Free-molecule regime\"\n",
    "        # Close to free-molecule regime\n",
    "        W = (1.-ratio)*(1+A_sharipov(ratio=ratio)*_delta)\n",
    "        mfn = W * mf0\n",
    "    else:\n",
    "        if verbose:\n",
    "            print \"Hydrodynamic regime\"\n",
    "            if ratio > ratio_c:\n",
    "                print \"Not choked\"\n",
    "            else:\n",
    "                print \"Choked\"\n",
    "        if ratio > ratio_c:\n",
    "            # Not choked\n",
    "            mfn = C_d_jitschin * 2 * mf0 * (p1/p0)**(1./gamma) * sqrt(pi*gamma/(gamma-1)*(1-(p1/p0)**((gamma+1)/2.)))\n",
    "        else:\n",
    "            # Choked\n",
    "            mfn = C_d_jitschin * mf0 * sqrt(2*pi*gamma) * (2./(gamma+1))**((gamma+1)/(2*(gamma-1)))\n",
    "        _Re = Re(D_lens=D_lens, mass_flow=mfn)\n",
    "        if _Re < 10:\n",
    "            print \"WARNING: Incorrect assumption. Flow not isoentropic (Re = %f < 10) and hence Euler equation invalid.\" % _Re\n",
    "            return nan\n",
    "    return mfn"
   ]
  },
  {
   "cell_type": "markdown",
   "metadata": {},
   "source": [
    "### 2.4 \"Propagate\" pressure through orifice by interpolation"
   ]
  },
  {
   "cell_type": "code",
   "execution_count": 36,
   "metadata": {
    "collapsed": true
   },
   "outputs": [],
   "source": [
    "def p1_sharipov(p0, mfn, D_lens, verbose=False, do_plot=False):\n",
    "    p1_arr = linspace(0, p0, 10000)\n",
    "    mfn_arr = asarray([mass_flow_sharipov(p0=p0, p1=p1, D_lens=D_lens, verbose=verbose) for p1 in p1_arr])\n",
    "    order = mfn_arr.argsort()\n",
    "    p1_interp = interp(mfn, mfn_arr[order], p1_arr[order])\n",
    "    if do_plot:\n",
    "        figure()\n",
    "        plot(p1_arr, mfn_arr, \"-\")\n",
    "        axhline(mfn)\n",
    "        axvline(p1_interp)\n",
    "    if p1_interp == p1_arr.min() or p1_interp == p1_arr.max():\n",
    "        print \"WARNING: Conditions seem unphysical.\"\n",
    "        return nan\n",
    "    return p1_interp"
   ]
  },
  {
   "cell_type": "markdown",
   "metadata": {},
   "source": [
    "## 3) Predict nozzle pressure with Sharipov's model\n",
    "\n",
    "I vary the nozzle pressure (as a function of the injector pressure) and check when the predicted mass flow rate matches the measured value.\n",
    "\n",
    "__Guess__: Nozzle pressure is proportional to injector pressure.\n",
    "\n",
    "$p_\\text{nozzle} = K \\cdot p_\\text{injector} $"
   ]
  },
  {
   "cell_type": "code",
   "execution_count": 37,
   "metadata": {},
   "outputs": [
    {
     "data": {
      "text/plain": [
       "<matplotlib.legend.Legend at 0x11d268510>"
      ]
     },
     "execution_count": 37,
     "metadata": {},
     "output_type": "execute_result"
    },
    {
     "data": {
      "image/png": "[encoded data removed]",
      "text/plain": [
       "<matplotlib.figure.Figure at 0x1192e3c90>"
      ]
     },
     "metadata": {},
     "output_type": "display_data"
    }
   ],
   "source": [
    "figsize(3, 3)\n",
    "\n",
    "for _K, ls in zip([0.4, 0.5, 0.6], [\"--\", \"-\", \":\"]):\n",
    "    p0_arr = p_inj_2.copy()\n",
    "    mf_arr_meas = asarray([mass_flow_interp(p_inj=p) for p in p0_arr])\n",
    "    p1_arr = p_ch_2.copy()\n",
    "    mf_arr_calc = asarray([mass_flow_sharipov(p0=p0*_K, p1=p1, D_lens=D_lenses[-1], verbose=False) for p0, p1 in zip(p0_arr, p1_arr)])\n",
    "\n",
    "    plot(p0_arr, mf_arr_calc*1E6*60, \"-o\", label=\"Sharipov theory ($K = %.1f$)\" % _K, ls=ls, color=\"C1\")\n",
    "plot(p0_arr, mf_arr_meas*1E6*60., \"-o\", label=\"Experiment\", ls=\"-\", color=\"C2\")\n",
    "ylabel(\"Mass flow [mg/min]\")\n",
    "xlabel(\"Injector pressure [Pa]\")\n",
    "ylim(0, None)\n",
    "xlim(0, None)\n",
    "legend()"
   ]
  },
  {
   "cell_type": "markdown",
   "metadata": {},
   "source": [
    "## 4) Propagate pressure through entire lens stack with all methods"
   ]
  },
  {
   "cell_type": "code",
   "execution_count": 38,
   "metadata": {},
   "outputs": [
    {
     "data": {
      "text/plain": [
       "0.044921967269075394"
      ]
     },
     "execution_count": 38,
     "metadata": {},
     "output_type": "execute_result"
    }
   ],
   "source": [
    "p_ch_interp(300.)"
   ]
  },
  {
   "cell_type": "code",
   "execution_count": 39,
   "metadata": {
    "scrolled": false
   },
   "outputs": [
    {
     "data": {
      "image/png": "[encoded data removed]",
      "text/plain": [
       "<matplotlib.figure.Figure at 0x11c114ad0>"
      ]
     },
     "metadata": {},
     "output_type": "display_data"
    },
    {
     "data": {
      "image/png": "[encoded data removed]",
      "text/plain": [
       "<matplotlib.figure.Figure at 0x118c61f10>"
      ]
     },
     "metadata": {},
     "output_type": "display_data"
    },
    {
     "data": {
      "image/png": "[encoded data removed]",
      "text/plain": [
       "<matplotlib.figure.Figure at 0x119267890>"
      ]
     },
     "metadata": {},
     "output_type": "display_data"
    }
   ],
   "source": [
    "D_p_lenses_lenscal = {\n",
    "    200.: [200.00, 198.61, 195.92, 191.51, 183.50, 175.13, 174.79, p_ch_interp(200.)],\n",
    "    250.: [250.00, 248.27, 244.90, 239.39, 229.38, 218.91, 218.48, p_ch_interp(250.)],\n",
    "    300.: [300.00, 297.92, 293.88, 287.27, 275.25, 262.69, 262.18, p_ch_interp(300.)],\n",
    "}\n",
    "\n",
    "for p_inj, p_lenses_lenscal in D_p_lenses_lenscal.items():\n",
    "    p_lenses_sharipov = [p_inj]\n",
    "    p_lenses_wang = [p_inj]\n",
    "\n",
    "    mass_flow_fixed = mass_flow_interp(p_inj=p_lenses_sharipov[0])\n",
    "\n",
    "    for i, (_D_lens_fixed, _D_tube_fixed) in enumerate(zip(D_lenses, D_tubes)):\n",
    "        # Sharipov\n",
    "        p1 = p1_sharipov(p0=p_lenses_sharipov[-1], mfn=mass_flow_fixed, D_lens=_D_lens_fixed)\n",
    "        p_lenses_sharipov.append(p1)\n",
    "        #print \"(%i) Sharipov:\\tp = %f Pa\" % (i, p_lenses_sharipov[-1])\n",
    "\n",
    "        # Wang\n",
    "        p1 = p1_wang(mass_flow1=mass_flow_fixed, p0=p_lenses_wang[-1], D_lens=_D_lens_fixed, D_tube=_D_tube_fixed, do_plot=False)\n",
    "        _Re = Re(D_lens=_D_lens_fixed, mass_flow=mass_flow_fixed)\n",
    "        _Kn = Kn(D_lens=_D_lens_fixed, p=p_lenses_wang[-1])\n",
    "        p_lenses_wang.append(p1)\n",
    "        #print \"(%i) Wang:\\tp= %f Pa\" % (i, p_lenses_wang[-1])\n",
    "        \n",
    "    #print p_lenses_sharipov\n",
    "    #print p_lenses_wang\n",
    "\n",
    "    figure()\n",
    "    title(\"Injector pressure: %.1f mbar\" % (p_inj/100))\n",
    "    plot(asarray(p_lenses_lenscal)/100., \"-o\", label=\"Lens Calculator\")\n",
    "    plot(asarray(p_lenses_sharipov)/100., \"-o\", label=\"Sharipov\")\n",
    "    plot(asarray(p_lenses_wang)/100., \"-o\", label=\"Wang\")\n",
    "    ylim(0, None)\n",
    "    ylabel(\"Pressure [mbar]\")\n",
    "    xlabel(\"Lens cavity index\")\n",
    "    legend()"
   ]
  },
  {
   "cell_type": "code",
   "execution_count": null,
   "metadata": {
    "collapsed": true
   },
   "outputs": [],
   "source": []
  }
 ],
 "metadata": {
  "kernelspec": {
   "display_name": "Python 2",
   "language": "python",
   "name": "python2"
  },
  "language_info": {
   "codemirror_mode": {
    "name": "ipython",
    "version": 2
   },
   "file_extension": ".py",
   "mimetype": "text/x-python",
   "name": "python",
   "nbconvert_exporter": "python",
   "pygments_lexer": "ipython2",
   "version": "2.7.13"
  }
 },
 "nbformat": 4,
 "nbformat_minor": 2
}
