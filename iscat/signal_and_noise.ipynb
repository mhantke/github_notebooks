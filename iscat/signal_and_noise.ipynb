{
 "cells": [
  {
   "cell_type": "markdown",
   "metadata": {},
   "source": [
    "# Theoretical signal and noise in ISCAT"
   ]
  },
  {
   "cell_type": "code",
   "execution_count": 1,
   "metadata": {},
   "outputs": [
    {
     "name": "stdout",
     "output_type": "stream",
     "text": [
      "Populating the interactive namespace from numpy and matplotlib\n"
     ]
    }
   ],
   "source": [
    "%pylab inline"
   ]
  },
  {
   "cell_type": "code",
   "execution_count": 142,
   "metadata": {
    "collapsed": true
   },
   "outputs": [],
   "source": [
    "# Constants\n",
    "n_m = 1.33 # Water\n",
    "n_s = 1.44 # Protein\n",
    "n_r = 1.52 # Glass\n",
    "d = 2 * 3.7E-9 # Protein effective scattering radius (65 kDa, albumin)\n",
    "m = 65E3 # Mass of albumin in Da\n",
    "wl = 445E-9 # Wavelength\n",
    "phi = 0. # Phase difference\n",
    "r_A = 100E-9 # Radius of illumination spot"
   ]
  },
  {
   "cell_type": "markdown",
   "metadata": {},
   "source": [
    "# 1) Intensity estimation"
   ]
  },
  {
   "cell_type": "markdown",
   "metadata": {},
   "source": [
    "## 1.1) Reflection amplitude $F_r$\n",
    "\n",
    "Reflectance for normal incidence (Fresnel eq.) at interface: $R = \\left|\\frac{n_r-n_m}{n_r+n_m}\\right|^2$\n",
    "\n",
    "Field reflectivity: $F_r = \\sqrt{R}$"
   ]
  },
  {
   "cell_type": "code",
   "execution_count": 135,
   "metadata": {},
   "outputs": [],
   "source": [
    "Fr = (n_r-n_m)/(n_r+n_m)"
   ]
  },
  {
   "cell_type": "markdown",
   "metadata": {},
   "source": [
    "## 1.2) Scattering amplitude $F_s$\n",
    "\n",
    "Polarizability: $\\alpha = 3V \\frac{n_s^2 - n_m^2}{n_s^2 + 2 n_m^2}$\n",
    "\n",
    "Total cross-section: $\\sigma_\\text{tot} = \\frac{8}{3} \\pi^3 \\alpha^2 \\left(\\frac{n_m}{\\lambda}\\right)^4$\n",
    "\n",
    "Area of illumination spot: $A = \\pi r_A^2$\n",
    "\n",
    "Scattering factor: $F_s = \\sqrt{\\frac{\\sigma_\\text{tot}}{A}} = \\sqrt{\\frac{2}{3}} \\pi^2 \\frac{d^3}{r_A} \\frac{n_s^2 - n_m^2}{n_s^2 + 2 n_m^2} \\left(\\frac{n_m}{\\lambda}\\right)^2$"
   ]
  },
  {
   "cell_type": "code",
   "execution_count": 136,
   "metadata": {},
   "outputs": [],
   "source": [
    "Fs = lambda d: sqrt(2/3.)*pi**2*d**3/r_A*(n_s**2-n_m**2)/(n_s**2+2*n_m**2)*(n_m/wl)**2"
   ]
  },
  {
   "cell_type": "markdown",
   "metadata": {},
   "source": [
    "## 1.3) Detected intensity\n",
    "\n",
    "Illumination intensity (\"power\") in photons per second: $I_0$\n",
    "\n",
    "Background intensity (without sample): $I_{\\text{bkg}} = I_0 F_r^2$\n",
    "\n",
    "Sample intensity: $I_{\\text{det}} = I_0 \\left[ F_r^2 + F_s^2 + 2 F_r F_s \\cos(\\phi) \\right]$"
   ]
  },
  {
   "cell_type": "code",
   "execution_count": 137,
   "metadata": {
    "collapsed": true
   },
   "outputs": [],
   "source": [
    "I_det = lambda I0, d: I0*(Fr**2+Fs(d)**2+2*Fr*Fs(d)*cos(phi))\n",
    "I_bkg = lambda I0: I0 * Fr**2\n",
    "I_det_approx = lambda I0, d: I0*(Fr**2+2*Fr*Fs(d)*cos(phi))"
   ]
  },
  {
   "cell_type": "code",
   "execution_count": 158,
   "metadata": {},
   "outputs": [
    {
     "name": "stdout",
     "output_type": "stream",
     "text": [
      "Reflected intensity: 4.4e-03\n",
      "Scattered intensity: 2.5e-10\n",
      "Interference intensity: 2.1e-06\n"
     ]
    }
   ],
   "source": [
    "print \"Reflected intensity: %.01e\" % (Fr**2)\n",
    "print \"Scattered intensity: %.01e\" % (Fs(d)**2)\n",
    "print \"Interference intensity: %.01e\" % (2*Fr*Fs(d))"
   ]
  },
  {
   "cell_type": "code",
   "execution_count": 160,
   "metadata": {},
   "outputs": [
    {
     "name": "stdout",
     "output_type": "stream",
     "text": [
      "Normalised reflected intensity: 1.0e+00\n",
      "Normalised scattered intensity: 5.6e-08\n",
      "Normalised interference intensity 4.8e-04\n"
     ]
    }
   ],
   "source": [
    "print \"Normalised reflected intensity: %.01e\" % (Fr**2/Fr**2)\n",
    "print \"Normalised scattered intensity: %.01e\" % (Fs(d)**2/Fr**2)\n",
    "print \"Normalised interference intensity %.01e\" % (2*Fr*Fs(d)/Fr**2)"
   ]
  },
  {
   "cell_type": "markdown",
   "metadata": {},
   "source": [
    "## 1.4) iSCAT contrast\n",
    "\n",
    "$C = \\frac{I_\\text{det}}{I_\\text{bkg}} - 1 = \\frac{F_s^2}{F_r^2} + 2 \\frac{F_s}{F_r} \\cos(\\phi) \\approx 2 \\frac{F_s}{F_r} \\cos(\\phi)$"
   ]
  },
  {
   "cell_type": "code",
   "execution_count": 217,
   "metadata": {
    "collapsed": true
   },
   "outputs": [],
   "source": [
    "C = lambda d: I_det(1., d)/I_bkg(1.) - 1\n",
    "C_approx = lambda d: I_det_approx(1., d)/I_bkg(1.) - 1"
   ]
  },
  {
   "cell_type": "code",
   "execution_count": 161,
   "metadata": {},
   "outputs": [
    {
     "data": {
      "text/plain": [
       "Text(0.5,1,u'Approximation error')"
      ]
     },
     "execution_count": 161,
     "metadata": {},
     "output_type": "execute_result"
    },
    {
     "data": {
      "image/png": "[encoded data removed]",
      "text/plain": [
       "<matplotlib.figure.Figure at 0x109ec5d10>"
      ]
     },
     "metadata": {},
     "output_type": "display_data"
    }
   ],
   "source": [
    "d_arr = linspace(1E-9, 20E-9, 100)\n",
    "plot(d_arr**3/d**3*m/1E3, (C(d_arr)-C_approx(d_arr))/C(d_arr))\n",
    "xlabel(\"Mass [kDa]\")\n",
    "ylabel(\"Relative error of approximation\")\n",
    "title(\"Approximation error\")"
   ]
  },
  {
   "cell_type": "markdown",
   "metadata": {},
   "source": [
    "## 2) Error propagation"
   ]
  },
  {
   "cell_type": "markdown",
   "metadata": {},
   "source": [
    "General: $\\sigma_C = \\sqrt{ \\left(\\frac{\\partial C}{\\partial I_\\text{det}}\\right)^2 \\sigma_{I_\\text{det}}^2 + \\left(\\frac{\\partial C}{\\partial I_\\text{bkg}}\\right)^2 \\sigma_{I_\\text{bkg}}^2 } \\approx \\sqrt{\\frac{1}{I^2} \\left( \\sigma_{I_\\text{det}}^2 + \\sigma_{I_\\text{bkg}}^2 \\right)}$\n",
    "\n",
    "Poisson noise: $\\sigma_C = \\sqrt{\\frac{1}{I^2} \\left( I + I \\right)} = \\sqrt{\\frac{2}{I}}$\n",
    "\n",
    "Read-out noise and Poisson noise: $\\sigma_C = \\sqrt{\\frac{2}{I} \\left( 1 + \\frac{\\sigma_\\text{detector}}{I} \\right)}$"
   ]
  },
  {
   "cell_type": "markdown",
   "metadata": {},
   "source": [
    "## 3) Non-linear detector response\n",
    "\n",
    "Variation of gain factors / illumination / linearity"
   ]
  },
  {
   "cell_type": "markdown",
   "metadata": {},
   "source": [
    "Make two examples:\n",
    "\n",
    "1.) **Ideal**: Ideal response function(input equals output)\n",
    "\n",
    "2.) **Erf**: Non-ideal response function with decreasing gain and saturation"
   ]
  },
  {
   "cell_type": "code",
   "execution_count": 214,
   "metadata": {},
   "outputs": [],
   "source": [
    "# Examples for detector responses\n",
    "from scipy.special import erf\n",
    "sig = 1.\n",
    "saturation_level = 1000\n",
    "fs_response = {\n",
    "    \"ideal\" : lambda N: N,\n",
    "    \"erf\" : lambda N: erf(N/saturation_level)*saturation_level\n",
    "}"
   ]
  },
  {
   "cell_type": "code",
   "execution_count": 252,
   "metadata": {},
   "outputs": [
    {
     "data": {
      "text/plain": [
       "<matplotlib.legend.Legend at 0x112568150>"
      ]
     },
     "execution_count": 252,
     "metadata": {},
     "output_type": "execute_result"
    },
    {
     "data": {
      "image/png": "[encoded data removed]",
      "text/plain": [
       "<matplotlib.figure.Figure at 0x10a675150>"
      ]
     },
     "metadata": {},
     "output_type": "display_data"
    }
   ],
   "source": [
    "I0_arr = 1E5 + 3E4 * rand(1000)\n",
    "I_det_arr = asarray([I_det(I0=_I0, d=d) for _I0 in I0_arr])\n",
    "I_bkg_arr = asarray([I_bkg(I0=_I0) for _I0 in I0_arr])\n",
    "\n",
    "N_arr = linspace(0, 1E3, 1000)\n",
    "figure()\n",
    "title(\"Simulated detector response curves\")\n",
    "ax = gca()\n",
    "for tag, f_r in fs_response.items():\n",
    "    ax.plot(N_arr, f_r(N_arr), label=tag)\n",
    "    ax.scatter(I_det_arr, f_r(I_det_arr), label=tag + \" (rand. samples)\", s=1.)\n",
    "ax.set_aspect(1.)\n",
    "ax.legend()"
   ]
  },
  {
   "cell_type": "code",
   "execution_count": 272,
   "metadata": {},
   "outputs": [
    {
     "data": {
      "text/plain": [
       "Text(0.5,0,u'Interferometric contrast')"
      ]
     },
     "execution_count": 272,
     "metadata": {},
     "output_type": "execute_result"
    },
    {
     "data": {
      "image/png": "[encoded data removed]",
      "text/plain": [
       "<matplotlib.figure.Figure at 0x114caa650>"
      ]
     },
     "metadata": {},
     "output_type": "display_data"
    }
   ],
   "source": [
    "suptitle(\"Measured contrast distribution\")\n",
    "ax = gca()\n",
    "ax.axvline(C(d), ls=\"--\", color=\"red\", zorder=1, label=\"Predicted contrast\")\n",
    "for tag, f_r in fs_response.items():\n",
    "    C_arr = f_r(I_det_arr)/f_r(I_bkg_arr) - 1\n",
    "    ax.hist(C_arr, range=(0.3E-3, 0.6E-3), bins=100, label=tag, zorder=10)\n",
    "ax.legend()\n",
    "ax.set_ylabel(\"#\")\n",
    "ax.set_xlabel(\"Interferometric contrast\")"
   ]
  },
  {
   "cell_type": "code",
   "execution_count": null,
   "metadata": {},
   "outputs": [],
   "source": []
  },
  {
   "cell_type": "code",
   "execution_count": null,
   "metadata": {
    "collapsed": true
   },
   "outputs": [],
   "source": []
  }
 ],
 "metadata": {
  "kernelspec": {
   "display_name": "Python 2",
   "language": "python",
   "name": "python2"
  },
  "language_info": {
   "codemirror_mode": {
    "name": "ipython",
    "version": 2
   },
   "file_extension": ".py",
   "mimetype": "text/x-python",
   "name": "python",
   "nbconvert_exporter": "python",
   "pygments_lexer": "ipython2",
   "version": "2.7.13"
  }
 },
 "nbformat": 4,
 "nbformat_minor": 2
}
